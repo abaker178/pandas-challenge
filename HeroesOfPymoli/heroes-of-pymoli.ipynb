{
 "cells": [
  {
   "cell_type": "markdown",
   "metadata": {},
   "source": [
    "## File Preparations"
   ]
  },
  {
   "cell_type": "code",
   "execution_count": 51,
   "metadata": {},
   "outputs": [],
   "source": [
    "# Dependencies\n",
    "import pandas as pd\n",
    "import csv"
   ]
  },
  {
   "cell_type": "code",
   "execution_count": 52,
   "metadata": {},
   "outputs": [
    {
     "data": {
      "text/html": [
       "<div>\n",
       "<style scoped>\n",
       "    .dataframe tbody tr th:only-of-type {\n",
       "        vertical-align: middle;\n",
       "    }\n",
       "\n",
       "    .dataframe tbody tr th {\n",
       "        vertical-align: top;\n",
       "    }\n",
       "\n",
       "    .dataframe thead th {\n",
       "        text-align: right;\n",
       "    }\n",
       "</style>\n",
       "<table border=\"1\" class=\"dataframe\">\n",
       "  <thead>\n",
       "    <tr style=\"text-align: right;\">\n",
       "      <th></th>\n",
       "      <th>Purchase ID</th>\n",
       "      <th>SN</th>\n",
       "      <th>Age</th>\n",
       "      <th>Gender</th>\n",
       "      <th>Item ID</th>\n",
       "      <th>Item Name</th>\n",
       "      <th>Price</th>\n",
       "    </tr>\n",
       "  </thead>\n",
       "  <tbody>\n",
       "    <tr>\n",
       "      <th>0</th>\n",
       "      <td>0</td>\n",
       "      <td>Lisim78</td>\n",
       "      <td>20</td>\n",
       "      <td>Male</td>\n",
       "      <td>108</td>\n",
       "      <td>Extraction, Quickblade Of Trembling Hands</td>\n",
       "      <td>3.53</td>\n",
       "    </tr>\n",
       "    <tr>\n",
       "      <th>1</th>\n",
       "      <td>1</td>\n",
       "      <td>Lisovynya38</td>\n",
       "      <td>40</td>\n",
       "      <td>Male</td>\n",
       "      <td>143</td>\n",
       "      <td>Frenzied Scimitar</td>\n",
       "      <td>1.56</td>\n",
       "    </tr>\n",
       "    <tr>\n",
       "      <th>2</th>\n",
       "      <td>2</td>\n",
       "      <td>Ithergue48</td>\n",
       "      <td>24</td>\n",
       "      <td>Male</td>\n",
       "      <td>92</td>\n",
       "      <td>Final Critic</td>\n",
       "      <td>4.88</td>\n",
       "    </tr>\n",
       "    <tr>\n",
       "      <th>3</th>\n",
       "      <td>3</td>\n",
       "      <td>Chamassasya86</td>\n",
       "      <td>24</td>\n",
       "      <td>Male</td>\n",
       "      <td>100</td>\n",
       "      <td>Blindscythe</td>\n",
       "      <td>3.27</td>\n",
       "    </tr>\n",
       "    <tr>\n",
       "      <th>4</th>\n",
       "      <td>4</td>\n",
       "      <td>Iskosia90</td>\n",
       "      <td>23</td>\n",
       "      <td>Male</td>\n",
       "      <td>131</td>\n",
       "      <td>Fury</td>\n",
       "      <td>1.44</td>\n",
       "    </tr>\n",
       "  </tbody>\n",
       "</table>\n",
       "</div>"
      ],
      "text/plain": [
       "   Purchase ID             SN  Age Gender  Item ID  \\\n",
       "0            0        Lisim78   20   Male      108   \n",
       "1            1    Lisovynya38   40   Male      143   \n",
       "2            2     Ithergue48   24   Male       92   \n",
       "3            3  Chamassasya86   24   Male      100   \n",
       "4            4      Iskosia90   23   Male      131   \n",
       "\n",
       "                                   Item Name  Price  \n",
       "0  Extraction, Quickblade Of Trembling Hands   3.53  \n",
       "1                          Frenzied Scimitar   1.56  \n",
       "2                               Final Critic   4.88  \n",
       "3                                Blindscythe   3.27  \n",
       "4                                       Fury   1.44  "
      ]
     },
     "execution_count": 52,
     "metadata": {},
     "output_type": "execute_result"
    }
   ],
   "source": [
    "# Read in CSV\n",
    "csvpath = \"Resources/purchase_data.csv\"\n",
    "pymoli_df = pd.read_csv(csvpath)\n",
    "pymoli_df.head()"
   ]
  },
  {
   "cell_type": "markdown",
   "metadata": {},
   "source": [
    "## General Numbers"
   ]
  },
  {
   "cell_type": "markdown",
   "metadata": {},
   "source": [
    "#### Purchasing Analysis - Overall"
   ]
  },
  {
   "cell_type": "code",
   "execution_count": 53,
   "metadata": {},
   "outputs": [
    {
     "data": {
      "text/plain": [
       "576"
      ]
     },
     "execution_count": 53,
     "metadata": {},
     "output_type": "execute_result"
    }
   ],
   "source": [
    "# Total player count\n",
    "player_count = len(pymoli_df[\"SN\"].unique())\n",
    "player_count"
   ]
  },
  {
   "cell_type": "code",
   "execution_count": 54,
   "metadata": {},
   "outputs": [],
   "source": [
    "# Initialize Purchasing Analysis Dictionary\n",
    "purchasing_analysis_overall = {}"
   ]
  },
  {
   "cell_type": "code",
   "execution_count": 55,
   "metadata": {},
   "outputs": [],
   "source": [
    "# Number of Unique Items\n",
    "purchasing_analysis_overall[\"Unique Items Available\"] = [len(pymoli_df[\"Item Name\"].unique())]\n",
    "#### value is bracketed so it will act as index when creating the dataframe"
   ]
  },
  {
   "cell_type": "code",
   "execution_count": 56,
   "metadata": {},
   "outputs": [],
   "source": [
    "# Average Purchase Price\n",
    "purchasing_analysis_overall[\"Average Price\"] = \"${:,.2f}\".format(round(pymoli_df[\"Price\"].mean(),2))"
   ]
  },
  {
   "cell_type": "code",
   "execution_count": 57,
   "metadata": {},
   "outputs": [],
   "source": [
    "# Total Number of Purchases\n",
    "purchasing_analysis_overall[\"Total Purchases\"] = pymoli_df[\"Purchase ID\"].count()"
   ]
  },
  {
   "cell_type": "code",
   "execution_count": 58,
   "metadata": {},
   "outputs": [],
   "source": [
    "# Total Revenue\n",
    "purchasing_analysis_overall[\"Total Revenue\"] = \"${:,.2f}\".format(pymoli_df[\"Price\"].sum())"
   ]
  },
  {
   "cell_type": "code",
   "execution_count": 59,
   "metadata": {},
   "outputs": [
    {
     "data": {
      "text/html": [
       "<div>\n",
       "<style scoped>\n",
       "    .dataframe tbody tr th:only-of-type {\n",
       "        vertical-align: middle;\n",
       "    }\n",
       "\n",
       "    .dataframe tbody tr th {\n",
       "        vertical-align: top;\n",
       "    }\n",
       "\n",
       "    .dataframe thead th {\n",
       "        text-align: right;\n",
       "    }\n",
       "</style>\n",
       "<table border=\"1\" class=\"dataframe\">\n",
       "  <thead>\n",
       "    <tr style=\"text-align: right;\">\n",
       "      <th></th>\n",
       "      <th>Unique Items Available</th>\n",
       "      <th>Average Price</th>\n",
       "      <th>Total Purchases</th>\n",
       "      <th>Total Revenue</th>\n",
       "    </tr>\n",
       "  </thead>\n",
       "  <tbody>\n",
       "    <tr>\n",
       "      <th>0</th>\n",
       "      <td>179</td>\n",
       "      <td>$3.05</td>\n",
       "      <td>780</td>\n",
       "      <td>$2,379.77</td>\n",
       "    </tr>\n",
       "  </tbody>\n",
       "</table>\n",
       "</div>"
      ],
      "text/plain": [
       "   Unique Items Available Average Price  Total Purchases Total Revenue\n",
       "0                     179         $3.05              780     $2,379.77"
      ]
     },
     "execution_count": 59,
     "metadata": {},
     "output_type": "execute_result"
    }
   ],
   "source": [
    "# Configure and output table\n",
    "purchasing_analysis_overall_df = pd.DataFrame(purchasing_analysis_overall)\n",
    "purchasing_analysis_overall_df.head()"
   ]
  },
  {
   "cell_type": "markdown",
   "metadata": {},
   "source": [
    "#### Gender Demographics"
   ]
  },
  {
   "cell_type": "code",
   "execution_count": 60,
   "metadata": {},
   "outputs": [],
   "source": [
    "# Initialize gender dictionaries and individual subset dataframes\n",
    "male = {}\n",
    "male_df = pymoli_df.loc[pymoli_df[\"Gender\"] == \"Male\", :]\n",
    "\n",
    "female = {}\n",
    "female_df = pymoli_df.loc[pymoli_df[\"Gender\"] == \"Female\", :]\n",
    "\n",
    "other = {}\n",
    "other_df = pymoli_df.loc[pymoli_df[\"Gender\"] == \"Other / Non-Disclosed\", :]"
   ]
  },
  {
   "cell_type": "code",
   "execution_count": 76,
   "metadata": {},
   "outputs": [],
   "source": [
    "# Male, Female, Other/Non-disclosed\n",
    "# - Count\n",
    "# - Percentage\n",
    "\n",
    "# male\n",
    "male[\"\"] = [\"Male\"] # will act as row index for \"male\" in gender_demographics_df\n",
    "male[\"Total Count\"] = len(male_df[\"SN\"].unique())\n",
    "male[\"Percent of Players\"] = \"{:.2%}\".format(male[\"Total Count\"]/player_count)\n",
    "\n",
    "# female\n",
    "female[\"\"] = [\"Female\"] # will act as row index for \"female\" in gender_demographics_df\n",
    "female[\"Total Count\"] = len(female_df[\"SN\"].unique())\n",
    "female[\"Percent of Players\"] = \"{:.2%}\".format(female[\"Total Count\"]/player_count)\n",
    "\n",
    "# other\n",
    "other[\"\"] = [\"Other / Non-Disclosed\"] # will act as row index for \"other\" in gender_demographics_df\n",
    "other[\"Total Count\"] = len(other_df[\"SN\"].unique())\n",
    "other[\"Percent of Players\"] = \"{:.2%}\".format(other[\"Total Count\"]/player_count)"
   ]
  },
  {
   "cell_type": "code",
   "execution_count": 77,
   "metadata": {},
   "outputs": [],
   "source": [
    "# Configure and output table\n",
    "gender_dicts = [male, female, other]\n",
    "gender_dfs = [pd.DataFrame(x) for x in gender_dicts]"
   ]
  },
  {
   "cell_type": "code",
   "execution_count": 80,
   "metadata": {},
   "outputs": [
    {
     "data": {
      "text/html": [
       "<div>\n",
       "<style scoped>\n",
       "    .dataframe tbody tr th:only-of-type {\n",
       "        vertical-align: middle;\n",
       "    }\n",
       "\n",
       "    .dataframe tbody tr th {\n",
       "        vertical-align: top;\n",
       "    }\n",
       "\n",
       "    .dataframe thead th {\n",
       "        text-align: right;\n",
       "    }\n",
       "</style>\n",
       "<table border=\"1\" class=\"dataframe\">\n",
       "  <thead>\n",
       "    <tr style=\"text-align: right;\">\n",
       "      <th></th>\n",
       "      <th>Total Count</th>\n",
       "      <th>Percent of Players</th>\n",
       "    </tr>\n",
       "    <tr>\n",
       "      <th></th>\n",
       "      <th></th>\n",
       "      <th></th>\n",
       "    </tr>\n",
       "  </thead>\n",
       "  <tbody>\n",
       "    <tr>\n",
       "      <th>Male</th>\n",
       "      <td>484</td>\n",
       "      <td>84.03%</td>\n",
       "    </tr>\n",
       "    <tr>\n",
       "      <th>Female</th>\n",
       "      <td>81</td>\n",
       "      <td>14.06%</td>\n",
       "    </tr>\n",
       "    <tr>\n",
       "      <th>Other / Non-Disclosed</th>\n",
       "      <td>11</td>\n",
       "      <td>1.91%</td>\n",
       "    </tr>\n",
       "  </tbody>\n",
       "</table>\n",
       "</div>"
      ],
      "text/plain": [
       "                       Total Count Percent of Players\n",
       "                                                     \n",
       "Male                           484             84.03%\n",
       "Female                          81             14.06%\n",
       "Other / Non-Disclosed           11              1.91%"
      ]
     },
     "execution_count": 80,
     "metadata": {},
     "output_type": "execute_result"
    }
   ],
   "source": [
    "\n",
    "gender_demographics_df = pd.concat(gender_dfs).set_index(\"\")\n",
    "gender_demographics_df"
   ]
  },
  {
   "cell_type": "markdown",
   "metadata": {},
   "source": [
    "#### Purchasing Analysis - Gender"
   ]
  },
  {
   "cell_type": "code",
   "execution_count": null,
   "metadata": {},
   "outputs": [],
   "source": [
    "# Male, Female, Other/Non-disclosed\n",
    "# - Purchase Count\n",
    "# - Total Purchase Value\n",
    "# - Average Purchase Price\n",
    "# - Average Purchase Total per Person\n",
    "\n",
    "# male\n",
    "male_purchase_count = male_df[\"Price\"].count()\n",
    "male_total_purchase = male_df[\"Price\"].sum()\n",
    "male_avg_purchase = \"${:,.2f}\".format(male_df[\"Price\"].mean())\n",
    "male_avg_per_person = \"${:,.2f}\".format(male_total_purchase/male_player_count)\n",
    "male_total_purchase = \"${:,.2f}\".format(male_total_purchase) # format after making necessary calculations\n",
    "\n",
    "# female\n",
    "female_purchase_count = female_df[\"Price\"].count()\n",
    "female_total_purchase = female_df[\"Price\"].sum()\n",
    "female_avg_purchase = \"${:,.2f}\".format(female_df[\"Price\"].mean())\n",
    "female_avg_per_person = \"${:,.2f}\".format(female_total_purchase/female_player_count)\n",
    "female_total_purchase = \"${:,.2f}\".format(female_total_purchase) # format after making necessary calculations\n",
    "\n",
    "# other\n",
    "other_purchase_count = other_df[\"Price\"].count()\n",
    "other_total_purchase = other_df[\"Price\"].sum()\n",
    "other_avg_purchase = \"${:,.2f}\".format(other_df[\"Price\"].mean())\n",
    "other_avg_per_person = \"${:,.2f}\".format(other_total_purchase/other_player_count)\n",
    "other_total_purchase = \"${:,.2f}\".format(other_total_purchase) # format after making necessary calculations"
   ]
  },
  {
   "cell_type": "code",
   "execution_count": null,
   "metadata": {},
   "outputs": [],
   "source": [
    "# Configure and output table\n",
    "purchasing_analysis_gender_df = pd.DataFrame({\n",
    "    \"\":[\"Male\", \"Female\", \"Other\"],\n",
    "    \"Transactions\": [male_purchase_count, female_purchase_count, other_purchase_count],\n",
    "    \"Total Purchase Amount\": [male_total_purchase, female_total_purchase, other_total_purchase],\n",
    "    \"Average Purchase Amount\": [male_avg_purchase, female_avg_purchase, other_avg_purchase],\n",
    "    \"Average Purchase Amount Per Person\": [male_avg_per_person, female_avg_per_person, other_avg_per_person]\n",
    "}).set_index(\"\")\n",
    "purchasing_analysis_gender_df"
   ]
  },
  {
   "cell_type": "markdown",
   "metadata": {},
   "source": [
    "# STOP - Go back!\n",
    "1. Make each gender a dictionary\n",
    "1. Get rid of the extraneous variables\n",
    "1. Clean up the data frame creation\n",
    "---\n",
    "---"
   ]
  },
  {
   "cell_type": "markdown",
   "metadata": {},
   "source": [
    "#### Age Demographics"
   ]
  },
  {
   "cell_type": "code",
   "execution_count": null,
   "metadata": {},
   "outputs": [],
   "source": [
    "# Age Bins\n",
    "# - Purchase Count\n",
    "# - Average Purchase Price\n",
    "# - Total Purchase Value\n",
    "# - Average Purchase Total per Person"
   ]
  },
  {
   "cell_type": "markdown",
   "metadata": {},
   "source": [
    "## Superlatives"
   ]
  },
  {
   "cell_type": "markdown",
   "metadata": {},
   "source": [
    "#### Top Spenders"
   ]
  },
  {
   "cell_type": "code",
   "execution_count": null,
   "metadata": {},
   "outputs": [],
   "source": [
    "# Identify the the top 5 spenders in the game by total purchase value, then list (in a table):\n",
    "# - SN\n",
    "# - Purchase Count\n",
    "# - Average Purchase Price\n",
    "# - Total Purchase Value"
   ]
  },
  {
   "cell_type": "markdown",
   "metadata": {},
   "source": [
    "#### Most Popular Items"
   ]
  },
  {
   "cell_type": "code",
   "execution_count": null,
   "metadata": {},
   "outputs": [],
   "source": [
    "# Identify the 5 most popular items by purchase count, then list (in a table):\n",
    "# - Item ID\n",
    "# - Item Name\n",
    "# - Purchase Count\n",
    "# - Item Price\n",
    "# - Total Purchase Value"
   ]
  },
  {
   "cell_type": "markdown",
   "metadata": {},
   "source": [
    "#### Most Profitable Items"
   ]
  },
  {
   "cell_type": "code",
   "execution_count": null,
   "metadata": {},
   "outputs": [],
   "source": [
    "# Identify the 5 most profitable items by total purchase value, then list (in a table):\n",
    "# - Item ID\n",
    "# - Item Name\n",
    "# - Purchase Count\n",
    "# - Item Price\n",
    "# - Total Purchase Value"
   ]
  }
 ],
 "metadata": {
  "kernelspec": {
   "display_name": "Python 3",
   "language": "python",
   "name": "python3"
  },
  "language_info": {
   "codemirror_mode": {
    "name": "ipython",
    "version": 3
   },
   "file_extension": ".py",
   "mimetype": "text/x-python",
   "name": "python",
   "nbconvert_exporter": "python",
   "pygments_lexer": "ipython3",
   "version": "3.8.3"
  }
 },
 "nbformat": 4,
 "nbformat_minor": 4
}
